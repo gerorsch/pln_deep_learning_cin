{
 "cells": [
  {
   "cell_type": "code",
   "execution_count": 1,
   "metadata": {},
   "outputs": [],
   "source": [
    "import pandas as pd\n",
    "import numpy as np\n",
    "import string\n",
    "import spacy\n",
    "from sklearn.model_selection import train_test_split\n",
    "from sklearn.svm import SVC\n",
    "from sklearn.pipeline import Pipeline\n",
    "from sklearn.metrics import accuracy_score, classification_report\n",
    "from sklearn.feature_extraction.text import CountVectorizer\n",
    "\n",
    "nlp = spacy.load('en_core_web_sm')"
   ]
  },
  {
   "cell_type": "code",
   "execution_count": 2,
   "metadata": {},
   "outputs": [],
   "source": [
    "starfield_reviews_df = pd.read_csv('starfield_reviews.csv')"
   ]
  },
  {
   "cell_type": "code",
   "execution_count": 3,
   "metadata": {},
   "outputs": [],
   "source": [
    "# Remove as linhas com valores nulos do DataFrame starfield_reviews_df\n",
    "starfield_reviews_df.dropna(inplace=True)\n",
    "\n",
    "# Após a remoção, você pode querer redefinir os índices do DataFrame\n",
    "starfield_reviews_df.reset_index(drop=True, inplace=True)\n"
   ]
  },
  {
   "cell_type": "code",
   "execution_count": 5,
   "metadata": {},
   "outputs": [
    {
     "data": {
      "text/html": [
       "<div>\n",
       "<style scoped>\n",
       "    .dataframe tbody tr th:only-of-type {\n",
       "        vertical-align: middle;\n",
       "    }\n",
       "\n",
       "    .dataframe tbody tr th {\n",
       "        vertical-align: top;\n",
       "    }\n",
       "\n",
       "    .dataframe thead th {\n",
       "        text-align: right;\n",
       "    }\n",
       "</style>\n",
       "<table border=\"1\" class=\"dataframe\">\n",
       "  <thead>\n",
       "    <tr style=\"text-align: right;\">\n",
       "      <th></th>\n",
       "      <th>review_id</th>\n",
       "      <th>text</th>\n",
       "      <th>target</th>\n",
       "    </tr>\n",
       "  </thead>\n",
       "  <tbody>\n",
       "    <tr>\n",
       "      <th>0</th>\n",
       "      <td>147134704</td>\n",
       "      <td>Uninstalled until they fix and improve this ga...</td>\n",
       "      <td>0</td>\n",
       "    </tr>\n",
       "    <tr>\n",
       "      <th>1</th>\n",
       "      <td>147134681</td>\n",
       "      <td>badass</td>\n",
       "      <td>1</td>\n",
       "    </tr>\n",
       "    <tr>\n",
       "      <th>2</th>\n",
       "      <td>147134591</td>\n",
       "      <td>TL:DR Not worth the whole price. It's a basic ...</td>\n",
       "      <td>0</td>\n",
       "    </tr>\n",
       "    <tr>\n",
       "      <th>3</th>\n",
       "      <td>147134557</td>\n",
       "      <td>Only a few hours in- LOVE it. Yeah maybe a few...</td>\n",
       "      <td>1</td>\n",
       "    </tr>\n",
       "    <tr>\n",
       "      <th>4</th>\n",
       "      <td>147134157</td>\n",
       "      <td>Great overall game. Some systems are flawed or...</td>\n",
       "      <td>1</td>\n",
       "    </tr>\n",
       "  </tbody>\n",
       "</table>\n",
       "</div>"
      ],
      "text/plain": [
       "   review_id                                               text  target\n",
       "0  147134704  Uninstalled until they fix and improve this ga...       0\n",
       "1  147134681                                             badass       1\n",
       "2  147134591  TL:DR Not worth the whole price. It's a basic ...       0\n",
       "3  147134557  Only a few hours in- LOVE it. Yeah maybe a few...       1\n",
       "4  147134157  Great overall game. Some systems are flawed or...       1"
      ]
     },
     "execution_count": 5,
     "metadata": {},
     "output_type": "execute_result"
    }
   ],
   "source": [
    "starfield_reviews_df.head()"
   ]
  },
  {
   "cell_type": "code",
   "execution_count": 6,
   "metadata": {},
   "outputs": [],
   "source": [
    "starfield_reviews_df['text'] = starfield_reviews_df['text'].apply(lambda x: [token for token in x if token not in string.punctuation and not token.isnumeric()])\n",
    "starfield_reviews_df['text'] = starfield_reviews_df['text'] .apply(lambda x: ''.join(x))"
   ]
  },
  {
   "cell_type": "code",
   "execution_count": 7,
   "metadata": {},
   "outputs": [],
   "source": [
    "starfield_reviews_df['text']  = starfield_reviews_df['text'].apply(lambda x: [token.lemma_.lower() for token in nlp(x) if (token.is_stop == False and len(token.text)>2)])\n",
    "starfield_reviews_df['text']  = starfield_reviews_df['text'].apply(lambda x: ' '.join(x))"
   ]
  },
  {
   "cell_type": "code",
   "execution_count": 8,
   "metadata": {},
   "outputs": [],
   "source": [
    "\n",
    "X_train, X_test, y_train, y_test = train_test_split(starfield_reviews_df['text'], starfield_reviews_df['target'], test_size=0.2, random_state=42, stratify=starfield_reviews_df['target'])"
   ]
  },
  {
   "cell_type": "code",
   "execution_count": 9,
   "metadata": {},
   "outputs": [],
   "source": [
    "# Crie um pipeline com o CountVectorizer para representação BoW e o SVM como classificador\n",
    "pipeline = Pipeline([\n",
    "    ('vectorizer', CountVectorizer()),  # Representação Bag of Words\n",
    "    ('classifier', SVC(kernel='linear'))  # Classificador SVM\n",
    "])\n",
    "\n",
    "# Treine o modelo\n",
    "pipeline.fit(X_train, y_train)\n",
    "\n",
    "# Faça previsões no conjunto de teste\n",
    "y_pred = pipeline.predict(X_test)\n"
   ]
  },
  {
   "cell_type": "code",
   "execution_count": 10,
   "metadata": {},
   "outputs": [
    {
     "name": "stdout",
     "output_type": "stream",
     "text": [
      "Acurácia: 0.89\n",
      "Relatório de Classificação:\n",
      "               precision    recall  f1-score   support\n",
      "\n",
      "           0       0.82      0.67      0.74      1918\n",
      "           1       0.91      0.96      0.93      6587\n",
      "\n",
      "    accuracy                           0.89      8505\n",
      "   macro avg       0.86      0.81      0.84      8505\n",
      "weighted avg       0.89      0.89      0.89      8505\n",
      "\n"
     ]
    }
   ],
   "source": [
    "# Avaliar o desempenho do modelo\n",
    "accuracy = accuracy_score(y_test, y_pred)\n",
    "print(f'Acurácia: {accuracy:.2f}')\n",
    "\n",
    "# Exibir um relatório de classificação\n",
    "report = classification_report(y_test, y_pred)\n",
    "print('Relatório de Classificação:\\n', report)"
   ]
  },
  {
   "cell_type": "code",
   "execution_count": null,
   "metadata": {},
   "outputs": [],
   "source": []
  }
 ],
 "metadata": {
  "kernelspec": {
   "display_name": "pytorch",
   "language": "python",
   "name": "python3"
  },
  "language_info": {
   "codemirror_mode": {
    "name": "ipython",
    "version": 3
   },
   "file_extension": ".py",
   "mimetype": "text/x-python",
   "name": "python",
   "nbconvert_exporter": "python",
   "pygments_lexer": "ipython3",
   "version": "3.11.5"
  },
  "orig_nbformat": 4
 },
 "nbformat": 4,
 "nbformat_minor": 2
}
