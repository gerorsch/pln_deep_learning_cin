{
 "cells": [
  {
   "cell_type": "code",
   "execution_count": 40,
   "metadata": {},
   "outputs": [],
   "source": [
    "import pandas as pd\n",
    "import numpy as np\n",
    "import string\n",
    "import spacy\n",
    "from sklearn.model_selection import train_test_split\n",
    "from sklearn.svm import SVC\n",
    "from sklearn.pipeline import Pipeline\n",
    "from sklearn.metrics import accuracy_score, classification_report\n",
    "from sklearn.feature_extraction.text import CountVectorizer\n",
    "\n",
    "nlp = spacy.load('en_core_web_sm')"
   ]
  },
  {
   "cell_type": "code",
   "execution_count": 41,
   "metadata": {},
   "outputs": [],
   "source": [
    "starfield_reviews_df = pd.read_csv('starfield_reviews.csv')"
   ]
  },
  {
   "cell_type": "code",
   "execution_count": 42,
   "metadata": {},
   "outputs": [],
   "source": [
    "# Remove as linhas com valores nulos do DataFrame starfield_reviews_df\n",
    "starfield_reviews_df.dropna(inplace=True)\n",
    "\n",
    "# Após a remoção, você pode querer redefinir os índices do DataFrame\n",
    "starfield_reviews_df.reset_index(drop=True, inplace=True)\n"
   ]
  },
  {
   "cell_type": "code",
   "execution_count": 43,
   "metadata": {},
   "outputs": [
    {
     "name": "stdout",
     "output_type": "stream",
     "text": [
      "<class 'pandas.core.frame.DataFrame'>\n",
      "RangeIndex: 42524 entries, 0 to 42523\n",
      "Data columns (total 3 columns):\n",
      " #   Column       Non-Null Count  Dtype \n",
      "---  ------       --------------  ----- \n",
      " 0   review_id    42524 non-null  int64 \n",
      " 1   review_text  42524 non-null  object\n",
      " 2   recommended  42524 non-null  bool  \n",
      "dtypes: bool(1), int64(1), object(1)\n",
      "memory usage: 706.1+ KB\n"
     ]
    }
   ],
   "source": [
    "starfield_reviews_df.info()"
   ]
  },
  {
   "cell_type": "code",
   "execution_count": 44,
   "metadata": {},
   "outputs": [],
   "source": [
    "starfield_reviews_df['reviews_text'] = starfield_reviews_df['review_text'].apply(lambda x: [token for token in x if token not in string.punctuation and not token.isnumeric()])\n",
    "starfield_reviews_df['reviews_text'] = starfield_reviews_df['reviews_text'] .apply(lambda x: ''.join(x))"
   ]
  },
  {
   "cell_type": "code",
   "execution_count": 45,
   "metadata": {},
   "outputs": [],
   "source": [
    "starfield_reviews_df['reviews_text']  = starfield_reviews_df['reviews_text'].apply(lambda x: [token.lemma_.lower() for token in nlp(x) if (token.is_stop == False and len(token.text)>2)])\n",
    "starfield_reviews_df['reviews_text']  = starfield_reviews_df['reviews_text'].apply(lambda x: ' '.join(x))"
   ]
  },
  {
   "cell_type": "code",
   "execution_count": 46,
   "metadata": {},
   "outputs": [],
   "source": [
    "\n",
    "\n",
    "X_train, X_test, y_train, y_test = train_test_split(starfield_reviews_df['review_text'], starfield_reviews_df['recommended'], test_size=0.2, random_state=42, stratify=starfield_reviews_df['recommended'])\n"
   ]
  },
  {
   "cell_type": "code",
   "execution_count": 47,
   "metadata": {},
   "outputs": [
    {
     "name": "stderr",
     "output_type": "stream",
     "text": [
      "C:\\Users\\gjque\\AppData\\Local\\Temp\\ipykernel_13916\\2286485540.py:6: DeprecationWarning: Call to deprecated `glove2word2vec` (KeyedVectors.load_word2vec_format(.., binary=False, no_header=True) loads GLoVE text vectors.).\n",
      "  glove2word2vec(glove_input_file, word2vec_output_file)\n"
     ]
    }
   ],
   "source": [
    "from gensim.scripts.glove2word2vec import glove2word2vec\n",
    "\n",
    "# Converta o arquivo GloVe para o formato Word2Vec\n",
    "glove_input_file = './glove.6B/glove.6B.300d.txt'\n",
    "word2vec_output_file = 'glove.6B.300d.word2vec'\n",
    "glove2word2vec(glove_input_file, word2vec_output_file)\n",
    "\n",
    "# Carregue o modelo convertido\n",
    "from gensim.models import KeyedVectors\n",
    "glove_model = KeyedVectors.load_word2vec_format(word2vec_output_file, binary=False)\n"
   ]
  },
  {
   "cell_type": "code",
   "execution_count": 48,
   "metadata": {},
   "outputs": [],
   "source": [
    "# Crie uma função para obter o vetor de embedding médio de um texto\n",
    "def text_to_vector(text):\n",
    "    words = text.split()\n",
    "    vectors = []\n",
    "    for word in words:\n",
    "        if word in glove_model:\n",
    "            vectors.append(glove_model[word])\n",
    "    if vectors:\n",
    "        return np.mean(vectors, axis=0)\n",
    "    else:\n",
    "        return np.zeros(glove_model.vector_size)\n",
    "\n",
    "# Divida os dados em recursos (X) e rótulos (y)\n",
    "X_train = np.array([text_to_vector(text) for text in X_train])\n",
    "y_train = y_train\n",
    "X_test = np.array([text_to_vector(text) for text in X_test])\n",
    "y_test = y_test\n"
   ]
  },
  {
   "cell_type": "code",
   "execution_count": 49,
   "metadata": {},
   "outputs": [],
   "source": [
    "# Crie um pipeline com o SVM como classificador\n",
    "pipeline = Pipeline([\n",
    "    ('classifier', SVC(kernel='linear'))  # Classificador SVM\n",
    "])\n",
    "\n",
    "# Treine o modelo\n",
    "pipeline.fit(X_train, y_train)\n",
    "\n",
    "# Faça previsões no conjunto de teste\n",
    "y_pred = pipeline.predict(X_test)"
   ]
  },
  {
   "cell_type": "code",
   "execution_count": 50,
   "metadata": {},
   "outputs": [
    {
     "name": "stdout",
     "output_type": "stream",
     "text": [
      "Acurácia: 0.80\n",
      "Relatório de Classificação:\n",
      "               precision    recall  f1-score   support\n",
      "\n",
      "       False       0.67      0.18      0.28      1918\n",
      "        True       0.80      0.97      0.88      6587\n",
      "\n",
      "    accuracy                           0.80      8505\n",
      "   macro avg       0.74      0.58      0.58      8505\n",
      "weighted avg       0.77      0.80      0.75      8505\n",
      "\n"
     ]
    }
   ],
   "source": [
    "# Avalie o desempenho do modelo com lematização e embedding de 300 dimensões\n",
    "accuracy = accuracy_score(y_test, y_pred)\n",
    "print(f'Acurácia: {accuracy:.2f}')\n",
    "\n",
    "# Exiba um relatório de classificação\n",
    "report = classification_report(y_test, y_pred)\n",
    "print('Relatório de Classificação:\\n', report)"
   ]
  },
  {
   "cell_type": "code",
   "execution_count": 39,
   "metadata": {},
   "outputs": [
    {
     "name": "stdout",
     "output_type": "stream",
     "text": [
      "Acurácia: 0.80\n",
      "Relatório de Classificação:\n",
      "               precision    recall  f1-score   support\n",
      "\n",
      "       False       0.67      0.18      0.28      1918\n",
      "        True       0.80      0.97      0.88      6587\n",
      "\n",
      "    accuracy                           0.80      8505\n",
      "   macro avg       0.74      0.58      0.58      8505\n",
      "weighted avg       0.77      0.80      0.75      8505\n",
      "\n"
     ]
    }
   ],
   "source": [
    "# Avalie o desempenho do modelo sem lematização e embedding de 300 dimensões\n",
    "accuracy = accuracy_score(y_test, y_pred)\n",
    "print(f'Acurácia: {accuracy:.2f}')\n",
    "\n",
    "# Exiba um relatório de classificação\n",
    "report = classification_report(y_test, y_pred)\n",
    "print('Relatório de Classificação:\\n', report)"
   ]
  },
  {
   "cell_type": "code",
   "execution_count": 30,
   "metadata": {},
   "outputs": [
    {
     "name": "stdout",
     "output_type": "stream",
     "text": [
      "Acurácia: 0.78\n",
      "Relatório de Classificação:\n",
      "               precision    recall  f1-score   support\n",
      "\n",
      "       False       0.76      0.01      0.02      1918\n",
      "        True       0.78      1.00      0.87      6587\n",
      "\n",
      "    accuracy                           0.78      8505\n",
      "   macro avg       0.77      0.50      0.45      8505\n",
      "weighted avg       0.77      0.78      0.68      8505\n",
      "\n"
     ]
    }
   ],
   "source": [
    "# Avalie o desempenho do modelo com lematização e embedding de 100 dimensões\n",
    "accuracy = accuracy_score(y_test, y_pred)\n",
    "print(f'Acurácia: {accuracy:.2f}')\n",
    "\n",
    "# Exiba um relatório de classificação\n",
    "report = classification_report(y_test, y_pred)\n",
    "print('Relatório de Classificação:\\n', report)"
   ]
  },
  {
   "cell_type": "code",
   "execution_count": 14,
   "metadata": {},
   "outputs": [
    {
     "name": "stdout",
     "output_type": "stream",
     "text": [
      "Acurácia: 0.78\n",
      "Relatório de Classificação:\n",
      "               precision    recall  f1-score   support\n",
      "\n",
      "       False       0.76      0.01      0.02      1918\n",
      "        True       0.78      1.00      0.87      6587\n",
      "\n",
      "    accuracy                           0.78      8505\n",
      "   macro avg       0.77      0.50      0.45      8505\n",
      "weighted avg       0.77      0.78      0.68      8505\n",
      "\n"
     ]
    }
   ],
   "source": [
    "# Avalie o desempenho do modelo sem lematização e embedding de 100 dimensões\n",
    "accuracy = accuracy_score(y_test, y_pred)\n",
    "print(f'Acurácia: {accuracy:.2f}')\n",
    "\n",
    "# Exiba um relatório de classificação\n",
    "report = classification_report(y_test, y_pred)\n",
    "print('Relatório de Classificação:\\n', report)"
   ]
  },
  {
   "cell_type": "code",
   "execution_count": null,
   "metadata": {},
   "outputs": [],
   "source": []
  }
 ],
 "metadata": {
  "kernelspec": {
   "display_name": "pytorch",
   "language": "python",
   "name": "python3"
  },
  "language_info": {
   "codemirror_mode": {
    "name": "ipython",
    "version": 3
   },
   "file_extension": ".py",
   "mimetype": "text/x-python",
   "name": "python",
   "nbconvert_exporter": "python",
   "pygments_lexer": "ipython3",
   "version": "3.11.5"
  },
  "orig_nbformat": 4
 },
 "nbformat": 4,
 "nbformat_minor": 2
}
